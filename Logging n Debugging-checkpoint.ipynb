{
 "cells": [
  {
   "cell_type": "code",
   "execution_count": 1,
   "id": "d41932a6",
   "metadata": {},
   "outputs": [],
   "source": [
    "#Debug is the detailed information"
   ]
  },
  {
   "cell_type": "code",
   "execution_count": 4,
   "id": "39aa89a7",
   "metadata": {},
   "outputs": [
    {
     "data": {
      "text/plain": [
       "'1.Debug\\n2.INFO\\n3.Warning\\n4.Error\\n5.Critical'"
      ]
     },
     "execution_count": 4,
     "metadata": {},
     "output_type": "execute_result"
    }
   ],
   "source": [
    "\"\"\"1.Debug\n",
    "2.INFO\n",
    "3.Warning\n",
    "4.Error\n",
    "5.Critical\"\"\""
   ]
  },
  {
   "cell_type": "code",
   "execution_count": 2,
   "id": "a3e0b064",
   "metadata": {},
   "outputs": [],
   "source": [
    "import logging as lg"
   ]
  },
  {
   "cell_type": "code",
   "execution_count": 4,
   "id": "0265961a",
   "metadata": {},
   "outputs": [],
   "source": [
    "import os"
   ]
  },
  {
   "cell_type": "code",
   "execution_count": 9,
   "id": "b8ce967d",
   "metadata": {},
   "outputs": [],
   "source": [
    "os.mkdir(\"logging\")"
   ]
  },
  {
   "cell_type": "code",
   "execution_count": 5,
   "id": "81d2a8c3",
   "metadata": {},
   "outputs": [],
   "source": [
    "os.chdir(os.getcwd() + \"/\" + \"logging\")"
   ]
  },
  {
   "cell_type": "code",
   "execution_count": 6,
   "id": "94c4b37b",
   "metadata": {},
   "outputs": [
    {
     "data": {
      "text/plain": [
       "'C:\\\\Users\\\\syedf\\\\logging'"
      ]
     },
     "execution_count": 6,
     "metadata": {},
     "output_type": "execute_result"
    }
   ],
   "source": [
    "pwd()"
   ]
  },
  {
   "cell_type": "code",
   "execution_count": 3,
   "id": "20b5c258",
   "metadata": {},
   "outputs": [],
   "source": [
    "lg.basicConfig(filename = \"test2.log\", level = lg.INFO , format = '%(asctime)s %(message)s')"
   ]
  },
  {
   "cell_type": "code",
   "execution_count": 8,
   "id": "459d101f",
   "metadata": {},
   "outputs": [],
   "source": [
    "lg.info(\" I am going to start my program\")"
   ]
  },
  {
   "cell_type": "code",
   "execution_count": 9,
   "id": "03e20f03",
   "metadata": {},
   "outputs": [],
   "source": [
    "lg.warning(\" This is a first warning of my program so modify it\")"
   ]
  },
  {
   "cell_type": "code",
   "execution_count": 10,
   "id": "d971bf76",
   "metadata": {},
   "outputs": [],
   "source": [
    "lg.error(\" This is msg for error\")"
   ]
  },
  {
   "cell_type": "code",
   "execution_count": 17,
   "id": "ad10a17e",
   "metadata": {},
   "outputs": [],
   "source": [
    "def test(a,b):\n",
    "    try :\n",
    "        lg.info(str(a)+str(b))\n",
    "        div = a/b\n",
    "        return div\n",
    "    except Exception as e :\n",
    "        print(\"You can check you log for more info if your code will fail \")\n",
    "        lg.error(\"error has occured \")\n",
    "        lg.exception(str(e))"
   ]
  },
  {
   "cell_type": "code",
   "execution_count": 18,
   "id": "d71b9d03",
   "metadata": {},
   "outputs": [
    {
     "name": "stdout",
     "output_type": "stream",
     "text": [
      "You can check you log for more info if your code will fail \n"
     ]
    }
   ],
   "source": [
    "test(4,0)"
   ]
  },
  {
   "cell_type": "code",
   "execution_count": 2,
   "id": "9e02bc92",
   "metadata": {},
   "outputs": [],
   "source": [
    "import logging \n",
    "logging.basicConfig(filename = 'C:\\\\Users\\\\syedf\\\\logging\\\\test1.log' , level = logging.INFO)\n",
    "def test(a,b):\n",
    "    logging.info(\"this is a start of function \")\n",
    "    return a+b"
   ]
  },
  {
   "cell_type": "code",
   "execution_count": 3,
   "id": "52e84c8f",
   "metadata": {},
   "outputs": [
    {
     "data": {
      "text/plain": [
       "11"
      ]
     },
     "execution_count": 3,
     "metadata": {},
     "output_type": "execute_result"
    }
   ],
   "source": [
    "test(5,6)"
   ]
  },
  {
   "cell_type": "code",
   "execution_count": 4,
   "id": "0f5574c6",
   "metadata": {},
   "outputs": [
    {
     "data": {
      "text/plain": [
       "11"
      ]
     },
     "execution_count": 4,
     "metadata": {},
     "output_type": "execute_result"
    }
   ],
   "source": [
    "test(5,6)"
   ]
  },
  {
   "cell_type": "code",
   "execution_count": 5,
   "id": "2010ffd3",
   "metadata": {},
   "outputs": [
    {
     "data": {
      "text/plain": [
       "11"
      ]
     },
     "execution_count": 5,
     "metadata": {},
     "output_type": "execute_result"
    }
   ],
   "source": [
    "test(5,6)"
   ]
  },
  {
   "cell_type": "code",
   "execution_count": 6,
   "id": "827612d0",
   "metadata": {},
   "outputs": [
    {
     "data": {
      "text/plain": [
       "11"
      ]
     },
     "execution_count": 6,
     "metadata": {},
     "output_type": "execute_result"
    }
   ],
   "source": [
    "test(5,6)"
   ]
  },
  {
   "cell_type": "code",
   "execution_count": 7,
   "id": "2c2042a7",
   "metadata": {},
   "outputs": [
    {
     "data": {
      "text/plain": [
       "11"
      ]
     },
     "execution_count": 7,
     "metadata": {},
     "output_type": "execute_result"
    }
   ],
   "source": [
    "test(5,6)"
   ]
  },
  {
   "cell_type": "code",
   "execution_count": 8,
   "id": "7c5fcbb0",
   "metadata": {},
   "outputs": [],
   "source": [
    "logging.shutdown()"
   ]
  },
  {
   "cell_type": "code",
   "execution_count": 9,
   "id": "6eff0d5a",
   "metadata": {},
   "outputs": [],
   "source": [
    "logging.debug(\"this is for debugging\")\n",
    "logging.info(\"this is info log\")\n",
    "logging.warning(\"this is my warning log\")\n",
    "logging.error(\"this is my error log\")\n",
    "logging.exception(\"this is my exception log\")\n",
    "logging.critical(\"this is my critical log\")\n"
   ]
  },
  {
   "cell_type": "code",
   "execution_count": 4,
   "id": "4b3f4f08",
   "metadata": {},
   "outputs": [
    {
     "name": "stdout",
     "output_type": "stream",
     "text": [
      "INFO:root:i am going to start my program\n",
      "INFO:root:i am going to start my program\n",
      "\n"
     ]
    }
   ],
   "source": [
    "import logging as lg\n",
    "def addition(*args):\n",
    "    lg.basicConfig(filename = 'test2.log' , level = lg.INFO)\n",
    "    lg.info(\" This is my addition function\")\n",
    "    sum=0\n",
    "    for i in args:\n",
    "        lg.info(str(i))\n",
    "        sum=sum+i\n",
    "    return sum\n",
    "\n",
    "addition(1,2,3,4)\n",
    "f = open(\"test.log\",\"r\")\n",
    "print(f.read())\n"
   ]
  },
  {
   "cell_type": "code",
   "execution_count": 5,
   "id": "64640c57",
   "metadata": {},
   "outputs": [
    {
     "data": {
      "text/plain": [
       "10"
      ]
     },
     "execution_count": 5,
     "metadata": {},
     "output_type": "execute_result"
    }
   ],
   "source": [
    "addition(1,2,3,4)"
   ]
  },
  {
   "cell_type": "code",
   "execution_count": 6,
   "id": "dae242c4",
   "metadata": {},
   "outputs": [
    {
     "name": "stdout",
     "output_type": "stream",
     "text": [
      "INFO:root:i am going to start my program\n",
      "INFO:root:i am going to start my program\n",
      "\n"
     ]
    }
   ],
   "source": [
    "import logging as lg\n",
    "lg.basicConfig(filename = 'test2.log' , level = lg.INFO)\n",
    "def addition(*args):\n",
    "    \n",
    "    lg.info(\" This is my addition function\")\n",
    "    sum1=0\n",
    "    for i in args:\n",
    "        lg.info(str(i))\n",
    "        sum1=sum1+i\n",
    "    return sum1\n",
    "\n",
    "\n",
    "f = open(\"test.log\",\"r\")\n",
    "print(f.read())\n"
   ]
  },
  {
   "cell_type": "code",
   "execution_count": 1,
   "id": "085936a6",
   "metadata": {},
   "outputs": [
    {
     "name": "stdout",
     "output_type": "stream",
     "text": [
      "2022-10-02 19:30:39,268 inside sum function\n",
      "2022-10-02 19:30:39,268 user inputs(1, 2, 3, 4, 5, 6, 7, 8, 9, 10)\n",
      "\n"
     ]
    }
   ],
   "source": [
    "import logging as lg\n",
    "import os\n",
    "lg.basicConfig(filename='app.log', level=lg.INFO, format='%(asctime)s %(message)s') \n",
    "\n",
    "def log_sum (*args):\n",
    "    lg.info('inside sum function')\n",
    "    lg.info('user inputs' + str(args))\n",
    "    return sum(args)\n",
    "\n",
    "            \n",
    "log_sum (1,2,3,4,5,6,7,8,9,10)\n",
    "\n",
    "#print Log file data\n",
    "if(os.path.exists('app.log')):\n",
    "    file= open('app.log', 'r')\n",
    "    print(file.read())\n",
    "    file.close()"
   ]
  },
  {
   "cell_type": "code",
   "execution_count": 2,
   "id": "8b760b6c",
   "metadata": {},
   "outputs": [
    {
     "data": {
      "text/plain": [
       "'C:\\\\Users\\\\syedf'"
      ]
     },
     "execution_count": 2,
     "metadata": {},
     "output_type": "execute_result"
    }
   ],
   "source": [
    "pwd()"
   ]
  },
  {
   "cell_type": "code",
   "execution_count": 1,
   "id": "f0a44a14",
   "metadata": {},
   "outputs": [
    {
     "name": "stdout",
     "output_type": "stream",
     "text": [
      "2022-10-02 19:30:39,268 inside sum function\n",
      "2022-10-02 19:30:39,268 user inputs(1, 2, 3, 4, 5, 6, 7, 8, 9, 10)\n",
      "\n"
     ]
    }
   ],
   "source": [
    "def add_nums(*args):\n",
    "    sum_num=0\n",
    "    for num in args:\n",
    "        lg.info(\"User input-->> {}\".format(num)) \n",
    "        sum_num+=num\n",
    "        lg.info(\"Sum now is-->> {}\".format(sum_num))\n",
    "    lg.info(\"Final Sum-->> {}\".format(sum_num))\n",
    "    return sum_num\n",
    "\n",
    "fp=open('app.log', 'r')\n",
    "print(fp.read())"
   ]
  },
  {
   "cell_type": "code",
   "execution_count": 2,
   "id": "729add09",
   "metadata": {},
   "outputs": [
    {
     "name": "stdout",
     "output_type": "stream",
     "text": [
      "4 5 6 7\n"
     ]
    },
    {
     "data": {
      "text/plain": [
       "22"
      ]
     },
     "execution_count": 2,
     "metadata": {},
     "output_type": "execute_result"
    }
   ],
   "source": [
    "import logging as lg1\n",
    "lg1.basicConfig(filename = 'test2.log', level = lg1.INFO, format = '%(asctime)s %(message)s')\n",
    "\n",
    "def summing(*args):\n",
    "    lg1.info(' This is start of the program ')\n",
    "    s = list(map(int,input().split()))\n",
    "    lg1.info(' user has entered: '+str(s))\n",
    "    lg1.info(' Please check the log for more information ')\n",
    "    return sum(s)\n",
    "summing(2,3,4,5)"
   ]
  },
  {
   "cell_type": "code",
   "execution_count": 3,
   "id": "7f134c35",
   "metadata": {},
   "outputs": [
    {
     "name": "stdout",
     "output_type": "stream",
     "text": [
      "4 5 6 7\n"
     ]
    },
    {
     "data": {
      "text/plain": [
       "22"
      ]
     },
     "execution_count": 3,
     "metadata": {},
     "output_type": "execute_result"
    }
   ],
   "source": [
    "summing(2,3,4,5)"
   ]
  },
  {
   "cell_type": "code",
   "execution_count": 4,
   "id": "44d6ecff",
   "metadata": {},
   "outputs": [
    {
     "name": "stdout",
     "output_type": "stream",
     "text": [
      "4 5 6 7\n"
     ]
    },
    {
     "data": {
      "text/plain": [
       "22"
      ]
     },
     "execution_count": 4,
     "metadata": {},
     "output_type": "execute_result"
    }
   ],
   "source": [
    "import logging as lg1\n",
    "lg1.basicConfig(filename = 'test2.log', level = lg1.INFO, format = '%(asctime)s %(message)s')\n",
    "\n",
    "def summing():\n",
    "    lg1.info(' This is start of the program ')\n",
    "    s = list(map(int,input().split()))\n",
    "    lg1.info(' user has entered: '+str(s))\n",
    "    lg1.info(' Please check the log for more information ')\n",
    "    return sum(s)\n",
    "summing()"
   ]
  },
  {
   "cell_type": "code",
   "execution_count": 1,
   "id": "6a5880e9",
   "metadata": {},
   "outputs": [],
   "source": [
    "import logging as lg"
   ]
  },
  {
   "cell_type": "code",
   "execution_count": 3,
   "id": "bbf8c2c4",
   "metadata": {},
   "outputs": [
    {
     "name": "stderr",
     "output_type": "stream",
     "text": [
      "%(asctime)s %(name)s %(levelname)s %(message)s\n",
      "%(asctime)s %(name)s %(levelname)s %(message)s\n",
      "%(asctime)s %(name)s %(levelname)s %(message)s\n"
     ]
    }
   ],
   "source": [
    "lg.basicConfig(filename = 'app3.log' , level = lg.DEBUG , format = \"%(asctime)s %(name)s %(levelname)s %(message)s\" )\n",
    "console_log = lg.StreamHandler()\n",
    "console_log.setLevel(lg.INFO)\n",
    "format =  \"%(asctime)s %(name)s %(levelname)s %(message)s\" \n",
    "console_log.setFormatter(format)\n",
    "lg.getLogger().addHandler(console_log)\n",
    "lg.info(\"this is my first test code for log\")\n",
    "logger1 = lg.getLogger('logger1.area1')\n",
    "logger2 = lg.getLogger('logger2.area2')\n",
    "logger1.info(\"this is info for logger one \")\n",
    "logger2.debug(\"this is a debug for logger two \")\n",
    "logger2.info(\"this is info for logger two \")\n",
    "\n",
    "\n",
    "\n"
   ]
  },
  {
   "cell_type": "code",
   "execution_count": 21,
   "id": "36d6df47",
   "metadata": {},
   "outputs": [],
   "source": [
    "console_log = lg.StreamHandler()\n",
    "console_log.setLevel(lg.INFO)"
   ]
  },
  {
   "cell_type": "code",
   "execution_count": 22,
   "id": "7ae6a2e3",
   "metadata": {},
   "outputs": [],
   "source": [
    "format =  \"%(asctime)s %(levelname)s %(message)s\" "
   ]
  },
  {
   "cell_type": "code",
   "execution_count": 23,
   "id": "6cfcd9f6",
   "metadata": {},
   "outputs": [],
   "source": [
    "console_log.setFormatter(format)"
   ]
  },
  {
   "cell_type": "code",
   "execution_count": 24,
   "id": "3ef1da05",
   "metadata": {},
   "outputs": [],
   "source": [
    "lg.getLogger('').addHandler(console_log)"
   ]
  },
  {
   "cell_type": "code",
   "execution_count": 25,
   "id": "9152d998",
   "metadata": {},
   "outputs": [
    {
     "name": "stderr",
     "output_type": "stream",
     "text": [
      "%(asctime)s %(levelname)s %(message)s\n",
      "%(asctime)s %(levelname)s %(message)s\n",
      "%(asctime)s %(levelname)s %(message)s\n"
     ]
    }
   ],
   "source": [
    "lg.info(\"this is my first test code for log\")"
   ]
  },
  {
   "cell_type": "code",
   "execution_count": 26,
   "id": "78b4aca6",
   "metadata": {},
   "outputs": [],
   "source": [
    "logger1 = lg.getLogger('logger1.area1')\n",
    "logger2 = lg.getLogger('logger2.area2')"
   ]
  },
  {
   "cell_type": "code",
   "execution_count": 27,
   "id": "ebf588d2",
   "metadata": {},
   "outputs": [
    {
     "name": "stderr",
     "output_type": "stream",
     "text": [
      "%(asctime)s %(levelname)s %(message)s\n",
      "%(asctime)s %(levelname)s %(message)s\n",
      "%(asctime)s %(levelname)s %(message)s\n",
      "%(asctime)s %(levelname)s %(message)s\n",
      "%(asctime)s %(levelname)s %(message)s\n",
      "%(asctime)s %(levelname)s %(message)s\n"
     ]
    }
   ],
   "source": [
    "logger1.info(\"this is info for logger one \")\n",
    "logger2.debug(\"this is a debug for logger two \")\n",
    "logger2.info(\"this is info for logger two \")"
   ]
  },
  {
   "cell_type": "code",
   "execution_count": 7,
   "id": "629ce46c",
   "metadata": {},
   "outputs": [
    {
     "name": "stderr",
     "output_type": "stream",
     "text": [
      "%(asctime)s %(name)s %(levelname)s %(message)s\n",
      "%(asctime)s %(name)s %(levelname)s %(message)s\n",
      "%(asctime)s %(name)s %(levelname)s %(message)s\n",
      "%(asctime)s %(name)s %(levelname)s %(message)s\n",
      "%(asctime)s %(name)s %(levelname)s %(message)s\n",
      "%(asctime)s %(name)s %(levelname)s %(message)s\n",
      "%(asctime)s %(name)s %(levelname)s %(message)s\n",
      "%(asctime)s %(name)s %(levelname)s %(message)s\n",
      "%(asctime)s %(name)s %(levelname)s %(message)s\n",
      "%(asctime)s %(name)s %(levelname)s %(message)s\n",
      "%(asctime)s %(name)s %(levelname)s %(message)s\n",
      "%(asctime)s %(name)s %(levelname)s %(message)s\n",
      "%(asctime)s %(name)s %(levelname)s %(message)s\n",
      "%(asctime)s %(name)s %(levelname)s %(message)s\n"
     ]
    }
   ],
   "source": [
    "lg.basicConfig(filename = 'app3.log' , level = lg.DEBUG , format = \"%(asctime)s %(name)s %(levelname)s %(message)s\" )\n",
    "console_log = lg.StreamHandler()\n",
    "console_log.setLevel(lg.DEBUG)\n",
    "format = \"%(asctime)s %(name)s %(levelname)s %(message)s\" \n",
    "console_log.setFormatter(format)\n",
    "lg.getLogger('').addHandler(console_log)\n",
    "lg.info(\"this is my first test code for log\")\n",
    "logger1 = lg.getLogger('user1')\n",
    "logger2 = lg.getLogger('user2')\n",
    "logger1.info(\"this is info for logger one \")\n",
    "logger2.debug(\"this is a debug for logger two \")\n",
    "logger2.info(\"this is info for logger two \")\n",
    "\n",
    "\n"
   ]
  },
  {
   "cell_type": "code",
   "execution_count": 8,
   "id": "cf403f0d",
   "metadata": {},
   "outputs": [],
   "source": [
    "#debugging"
   ]
  },
  {
   "cell_type": "code",
   "execution_count": 9,
   "id": "19380d22",
   "metadata": {},
   "outputs": [],
   "source": [
    "def testdebug():\n",
    "    l = []\n",
    "    for i in range(10):\n",
    "        l.append(i)\n",
    "        print(\"we have appended your data in list \")\n",
    "    return l\n",
    "    "
   ]
  },
  {
   "cell_type": "code",
   "execution_count": 10,
   "id": "aa5073df",
   "metadata": {},
   "outputs": [
    {
     "name": "stdout",
     "output_type": "stream",
     "text": [
      "we have appended your data in list \n",
      "we have appended your data in list \n",
      "we have appended your data in list \n",
      "we have appended your data in list \n",
      "we have appended your data in list \n",
      "we have appended your data in list \n",
      "we have appended your data in list \n",
      "we have appended your data in list \n",
      "we have appended your data in list \n",
      "we have appended your data in list \n"
     ]
    },
    {
     "data": {
      "text/plain": [
       "[0, 1, 2, 3, 4, 5, 6, 7, 8, 9]"
      ]
     },
     "execution_count": 10,
     "metadata": {},
     "output_type": "execute_result"
    }
   ],
   "source": [
    "testdebug()"
   ]
  },
  {
   "cell_type": "code",
   "execution_count": 9,
   "id": "2335a68f",
   "metadata": {},
   "outputs": [
    {
     "name": "stdout",
     "output_type": "stream",
     "text": [
      "Collecting package metadata (current_repodata.json): ...working... done\n",
      "Solving environment: ...working... failed with initial frozen solve. Retrying with flexible solve.\n",
      "Collecting package metadata (repodata.json): ...working... done\n",
      "Solving environment: ...working... failed with initial frozen solve. Retrying with flexible solve.\n"
     ]
    },
    {
     "name": "stderr",
     "output_type": "stream",
     "text": [
      "\n",
      "PackagesNotFoundError: The following packages are not available from current channels:\n",
      "\n",
      "  - ipdb\n",
      "\n",
      "Current channels:\n",
      "\n",
      "  - https://repo.anaconda.com/pkgs/main/win-64\n",
      "  - https://repo.anaconda.com/pkgs/main/noarch\n",
      "  - https://repo.anaconda.com/pkgs/r/win-64\n",
      "  - https://repo.anaconda.com/pkgs/r/noarch\n",
      "  - https://repo.anaconda.com/pkgs/msys2/win-64\n",
      "  - https://repo.anaconda.com/pkgs/msys2/noarch\n",
      "\n",
      "To search for alternate channels that may provide the conda package you're\n",
      "looking for, navigate to\n",
      "\n",
      "    https://anaconda.org\n",
      "\n",
      "and use the search bar at the top of the page.\n",
      "\n",
      "\n"
     ]
    }
   ],
   "source": [
    "import ipdb\n",
    "!conda install ipdb"
   ]
  },
  {
   "cell_type": "code",
   "execution_count": 8,
   "id": "fcfc5454",
   "metadata": {},
   "outputs": [
    {
     "name": "stdout",
     "output_type": "stream",
     "text": [
      "Requirement already satisfied: ipdb in c:\\users\\syedf\\anaconda3\\lib\\site-packages (0.13.9)\n",
      "Requirement already satisfied: setuptools in c:\\users\\syedf\\anaconda3\\lib\\site-packages (from ipdb) (58.0.4)\n",
      "Requirement already satisfied: ipython>=7.17.0 in c:\\users\\syedf\\anaconda3\\lib\\site-packages (from ipdb) (7.29.0)\n",
      "Requirement already satisfied: decorator in c:\\users\\syedf\\anaconda3\\lib\\site-packages (from ipdb) (5.1.0)\n",
      "Requirement already satisfied: toml>=0.10.2 in c:\\users\\syedf\\anaconda3\\lib\\site-packages (from ipdb) (0.10.2)\n",
      "Requirement already satisfied: prompt-toolkit!=3.0.0,!=3.0.1,<3.1.0,>=2.0.0 in c:\\users\\syedf\\anaconda3\\lib\\site-packages (from ipython>=7.17.0->ipdb) (3.0.20)\n",
      "Requirement already satisfied: matplotlib-inline in c:\\users\\syedf\\anaconda3\\lib\\site-packages (from ipython>=7.17.0->ipdb) (0.1.2)\n",
      "Requirement already satisfied: colorama in c:\\users\\syedf\\anaconda3\\lib\\site-packages (from ipython>=7.17.0->ipdb) (0.4.4)\n",
      "Requirement already satisfied: pygments in c:\\users\\syedf\\anaconda3\\lib\\site-packages (from ipython>=7.17.0->ipdb) (2.10.0)\n",
      "Requirement already satisfied: jedi>=0.16 in c:\\users\\syedf\\anaconda3\\lib\\site-packages (from ipython>=7.17.0->ipdb) (0.18.0)\n",
      "Requirement already satisfied: backcall in c:\\users\\syedf\\anaconda3\\lib\\site-packages (from ipython>=7.17.0->ipdb) (0.2.0)\n",
      "Requirement already satisfied: traitlets>=4.2 in c:\\users\\syedf\\anaconda3\\lib\\site-packages (from ipython>=7.17.0->ipdb) (5.1.0)\n",
      "Requirement already satisfied: pickleshare in c:\\users\\syedf\\anaconda3\\lib\\site-packages (from ipython>=7.17.0->ipdb) (0.7.5)\n",
      "Requirement already satisfied: parso<0.9.0,>=0.8.0 in c:\\users\\syedf\\anaconda3\\lib\\site-packages (from jedi>=0.16->ipython>=7.17.0->ipdb) (0.8.2)\n",
      "Requirement already satisfied: wcwidth in c:\\users\\syedf\\anaconda3\\lib\\site-packages (from prompt-toolkit!=3.0.0,!=3.0.1,<3.1.0,>=2.0.0->ipython>=7.17.0->ipdb) (0.2.5)\n"
     ]
    }
   ],
   "source": [
    "!pip install ipdb"
   ]
  },
  {
   "cell_type": "code",
   "execution_count": 1,
   "id": "180be6a2",
   "metadata": {},
   "outputs": [
    {
     "data": {
      "text/plain": [
       "3"
      ]
     },
     "execution_count": 1,
     "metadata": {},
     "output_type": "execute_result"
    }
   ],
   "source": [
    "3"
   ]
  },
  {
   "cell_type": "code",
   "execution_count": 2,
   "id": "cf47ff23",
   "metadata": {},
   "outputs": [
    {
     "data": {
      "text/plain": [
       "int"
      ]
     },
     "execution_count": 2,
     "metadata": {},
     "output_type": "execute_result"
    }
   ],
   "source": [
    "type(3)"
   ]
  },
  {
   "cell_type": "code",
   "execution_count": 3,
   "id": "52260350",
   "metadata": {},
   "outputs": [
    {
     "data": {
      "text/plain": [
       "33.3"
      ]
     },
     "execution_count": 3,
     "metadata": {},
     "output_type": "execute_result"
    }
   ],
   "source": [
    "33.3"
   ]
  },
  {
   "cell_type": "code",
   "execution_count": 4,
   "id": "7ff1f0d7",
   "metadata": {},
   "outputs": [
    {
     "data": {
      "text/plain": [
       "float"
      ]
     },
     "execution_count": 4,
     "metadata": {},
     "output_type": "execute_result"
    }
   ],
   "source": [
    "type(33.3)"
   ]
  },
  {
   "cell_type": "code",
   "execution_count": 5,
   "id": "a122dd75",
   "metadata": {},
   "outputs": [
    {
     "data": {
      "text/plain": [
       "7.333333333333333"
      ]
     },
     "execution_count": 5,
     "metadata": {},
     "output_type": "execute_result"
    }
   ],
   "source": [
    "22/3"
   ]
  },
  {
   "cell_type": "code",
   "execution_count": 6,
   "id": "b3e78017",
   "metadata": {},
   "outputs": [
    {
     "data": {
      "text/plain": [
       "float"
      ]
     },
     "execution_count": 6,
     "metadata": {},
     "output_type": "execute_result"
    }
   ],
   "source": [
    "type(22/3)"
   ]
  },
  {
   "cell_type": "code",
   "execution_count": 10,
   "id": "169eae9c",
   "metadata": {},
   "outputs": [],
   "source": [
    "import ipdb"
   ]
  },
  {
   "cell_type": "code",
   "execution_count": 11,
   "id": "e443a4f6",
   "metadata": {},
   "outputs": [],
   "source": [
    "def testdebug():\n",
    "    ipdb.set_trace()\n",
    "    l = []\n",
    "    for i in range(10):\n",
    "        l.append(i)\n",
    "        print(\"we have appended your data in list \")\n",
    "    return l"
   ]
  },
  {
   "cell_type": "code",
   "execution_count": 12,
   "id": "86bb1a01",
   "metadata": {
    "scrolled": false
   },
   "outputs": [
    {
     "name": "stdout",
     "output_type": "stream",
     "text": [
      "> \u001b[1;32mc:\\users\\syedf\\appdata\\local\\temp\\ipykernel_29240\\1080864031.py\u001b[0m(3)\u001b[0;36mtestdebug\u001b[1;34m()\u001b[0m\n",
      "\n",
      "ipdb> h\n",
      "\n",
      "Documented commands (type help <topic>):\n",
      "========================================\n",
      "EOF    commands   enable    ll        pp       s                until \n",
      "a      condition  exit      longlist  psource  skip_hidden      up    \n",
      "alias  cont       h         n         q        skip_predicates  w     \n",
      "args   context    help      next      quit     source           whatis\n",
      "b      continue   ignore    p         r        step             where \n",
      "break  d          interact  pdef      restart  tbreak         \n",
      "bt     debug      j         pdoc      return   u              \n",
      "c      disable    jump      pfile     retval   unalias        \n",
      "cl     display    l         pinfo     run      undisplay      \n",
      "clear  down       list      pinfo2    rv       unt            \n",
      "\n",
      "Miscellaneous help topics:\n",
      "==========================\n",
      "exec  pdb\n",
      "\n",
      "ipdb> next\n",
      "> \u001b[1;32mc:\\users\\syedf\\appdata\\local\\temp\\ipykernel_29240\\1080864031.py\u001b[0m(4)\u001b[0;36mtestdebug\u001b[1;34m()\u001b[0m\n",
      "\n",
      "ipdb> next\n",
      "> \u001b[1;32mc:\\users\\syedf\\appdata\\local\\temp\\ipykernel_29240\\1080864031.py\u001b[0m(5)\u001b[0;36mtestdebug\u001b[1;34m()\u001b[0m\n",
      "\n",
      "ipdb> next\n",
      "> \u001b[1;32mc:\\users\\syedf\\appdata\\local\\temp\\ipykernel_29240\\1080864031.py\u001b[0m(6)\u001b[0;36mtestdebug\u001b[1;34m()\u001b[0m\n",
      "\n",
      "ipdb> next\n",
      "we have appended your data in list \n",
      "> \u001b[1;32mc:\\users\\syedf\\appdata\\local\\temp\\ipykernel_29240\\1080864031.py\u001b[0m(4)\u001b[0;36mtestdebug\u001b[1;34m()\u001b[0m\n",
      "\n",
      "ipdb> next\n",
      "> \u001b[1;32mc:\\users\\syedf\\appdata\\local\\temp\\ipykernel_29240\\1080864031.py\u001b[0m(5)\u001b[0;36mtestdebug\u001b[1;34m()\u001b[0m\n",
      "\n",
      "ipdb> next\n",
      "> \u001b[1;32mc:\\users\\syedf\\appdata\\local\\temp\\ipykernel_29240\\1080864031.py\u001b[0m(6)\u001b[0;36mtestdebug\u001b[1;34m()\u001b[0m\n",
      "\n",
      "ipdb> next\n",
      "we have appended your data in list \n",
      "> \u001b[1;32mc:\\users\\syedf\\appdata\\local\\temp\\ipykernel_29240\\1080864031.py\u001b[0m(4)\u001b[0;36mtestdebug\u001b[1;34m()\u001b[0m\n",
      "\n",
      "ipdb> next\n",
      "> \u001b[1;32mc:\\users\\syedf\\appdata\\local\\temp\\ipykernel_29240\\1080864031.py\u001b[0m(5)\u001b[0;36mtestdebug\u001b[1;34m()\u001b[0m\n",
      "\n",
      "ipdb> next\n",
      "> \u001b[1;32mc:\\users\\syedf\\appdata\\local\\temp\\ipykernel_29240\\1080864031.py\u001b[0m(6)\u001b[0;36mtestdebug\u001b[1;34m()\u001b[0m\n",
      "\n",
      "ipdb> next\n",
      "we have appended your data in list \n",
      "> \u001b[1;32mc:\\users\\syedf\\appdata\\local\\temp\\ipykernel_29240\\1080864031.py\u001b[0m(4)\u001b[0;36mtestdebug\u001b[1;34m()\u001b[0m\n",
      "\n",
      "ipdb> next\n",
      "> \u001b[1;32mc:\\users\\syedf\\appdata\\local\\temp\\ipykernel_29240\\1080864031.py\u001b[0m(5)\u001b[0;36mtestdebug\u001b[1;34m()\u001b[0m\n",
      "\n",
      "ipdb> next\n",
      "> \u001b[1;32mc:\\users\\syedf\\appdata\\local\\temp\\ipykernel_29240\\1080864031.py\u001b[0m(6)\u001b[0;36mtestdebug\u001b[1;34m()\u001b[0m\n",
      "\n",
      "ipdb> next\n",
      "we have appended your data in list \n",
      "> \u001b[1;32mc:\\users\\syedf\\appdata\\local\\temp\\ipykernel_29240\\1080864031.py\u001b[0m(4)\u001b[0;36mtestdebug\u001b[1;34m()\u001b[0m\n",
      "\n",
      "ipdb> next\n",
      "> \u001b[1;32mc:\\users\\syedf\\appdata\\local\\temp\\ipykernel_29240\\1080864031.py\u001b[0m(5)\u001b[0;36mtestdebug\u001b[1;34m()\u001b[0m\n",
      "\n",
      "ipdb> next\n",
      "> \u001b[1;32mc:\\users\\syedf\\appdata\\local\\temp\\ipykernel_29240\\1080864031.py\u001b[0m(6)\u001b[0;36mtestdebug\u001b[1;34m()\u001b[0m\n",
      "\n",
      "ipdb> next\n",
      "we have appended your data in list \n",
      "> \u001b[1;32mc:\\users\\syedf\\appdata\\local\\temp\\ipykernel_29240\\1080864031.py\u001b[0m(4)\u001b[0;36mtestdebug\u001b[1;34m()\u001b[0m\n",
      "\n",
      "ipdb> next\n",
      "> \u001b[1;32mc:\\users\\syedf\\appdata\\local\\temp\\ipykernel_29240\\1080864031.py\u001b[0m(5)\u001b[0;36mtestdebug\u001b[1;34m()\u001b[0m\n",
      "\n",
      "ipdb> next\n",
      "> \u001b[1;32mc:\\users\\syedf\\appdata\\local\\temp\\ipykernel_29240\\1080864031.py\u001b[0m(6)\u001b[0;36mtestdebug\u001b[1;34m()\u001b[0m\n",
      "\n",
      "ipdb> next\n",
      "we have appended your data in list \n",
      "> \u001b[1;32mc:\\users\\syedf\\appdata\\local\\temp\\ipykernel_29240\\1080864031.py\u001b[0m(4)\u001b[0;36mtestdebug\u001b[1;34m()\u001b[0m\n",
      "\n",
      "ipdb> next\n",
      "> \u001b[1;32mc:\\users\\syedf\\appdata\\local\\temp\\ipykernel_29240\\1080864031.py\u001b[0m(5)\u001b[0;36mtestdebug\u001b[1;34m()\u001b[0m\n",
      "\n",
      "ipdb> next\n",
      "> \u001b[1;32mc:\\users\\syedf\\appdata\\local\\temp\\ipykernel_29240\\1080864031.py\u001b[0m(6)\u001b[0;36mtestdebug\u001b[1;34m()\u001b[0m\n",
      "\n",
      "ipdb> next\n",
      "we have appended your data in list \n",
      "> \u001b[1;32mc:\\users\\syedf\\appdata\\local\\temp\\ipykernel_29240\\1080864031.py\u001b[0m(4)\u001b[0;36mtestdebug\u001b[1;34m()\u001b[0m\n",
      "\n",
      "ipdb> next\n",
      "> \u001b[1;32mc:\\users\\syedf\\appdata\\local\\temp\\ipykernel_29240\\1080864031.py\u001b[0m(5)\u001b[0;36mtestdebug\u001b[1;34m()\u001b[0m\n",
      "\n",
      "ipdb> next\n",
      "> \u001b[1;32mc:\\users\\syedf\\appdata\\local\\temp\\ipykernel_29240\\1080864031.py\u001b[0m(6)\u001b[0;36mtestdebug\u001b[1;34m()\u001b[0m\n",
      "\n",
      "ipdb> next\n",
      "we have appended your data in list \n",
      "> \u001b[1;32mc:\\users\\syedf\\appdata\\local\\temp\\ipykernel_29240\\1080864031.py\u001b[0m(4)\u001b[0;36mtestdebug\u001b[1;34m()\u001b[0m\n",
      "\n",
      "ipdb> next\n",
      "> \u001b[1;32mc:\\users\\syedf\\appdata\\local\\temp\\ipykernel_29240\\1080864031.py\u001b[0m(5)\u001b[0;36mtestdebug\u001b[1;34m()\u001b[0m\n",
      "\n",
      "ipdb> next\n",
      "> \u001b[1;32mc:\\users\\syedf\\appdata\\local\\temp\\ipykernel_29240\\1080864031.py\u001b[0m(6)\u001b[0;36mtestdebug\u001b[1;34m()\u001b[0m\n",
      "\n",
      "ipdb> next\n",
      "we have appended your data in list \n",
      "> \u001b[1;32mc:\\users\\syedf\\appdata\\local\\temp\\ipykernel_29240\\1080864031.py\u001b[0m(4)\u001b[0;36mtestdebug\u001b[1;34m()\u001b[0m\n",
      "\n",
      "ipdb> next\n",
      "> \u001b[1;32mc:\\users\\syedf\\appdata\\local\\temp\\ipykernel_29240\\1080864031.py\u001b[0m(5)\u001b[0;36mtestdebug\u001b[1;34m()\u001b[0m\n",
      "\n",
      "ipdb> next\n",
      "> \u001b[1;32mc:\\users\\syedf\\appdata\\local\\temp\\ipykernel_29240\\1080864031.py\u001b[0m(6)\u001b[0;36mtestdebug\u001b[1;34m()\u001b[0m\n",
      "\n",
      "ipdb> next\n",
      "we have appended your data in list \n",
      "> \u001b[1;32mc:\\users\\syedf\\appdata\\local\\temp\\ipykernel_29240\\1080864031.py\u001b[0m(4)\u001b[0;36mtestdebug\u001b[1;34m()\u001b[0m\n",
      "\n",
      "ipdb> next\n",
      "> \u001b[1;32mc:\\users\\syedf\\appdata\\local\\temp\\ipykernel_29240\\1080864031.py\u001b[0m(7)\u001b[0;36mtestdebug\u001b[1;34m()\u001b[0m\n",
      "\n",
      "ipdb> next\n",
      "--Return--\n",
      "[0, 1, 2, 3, 4, 5, ...]\n",
      "> \u001b[1;32mc:\\users\\syedf\\appdata\\local\\temp\\ipykernel_29240\\1080864031.py\u001b[0m(7)\u001b[0;36mtestdebug\u001b[1;34m()\u001b[0m\n",
      "\n",
      "ipdb> c\n"
     ]
    },
    {
     "data": {
      "text/plain": [
       "[0, 1, 2, 3, 4, 5, 6, 7, 8, 9]"
      ]
     },
     "execution_count": 12,
     "metadata": {},
     "output_type": "execute_result"
    }
   ],
   "source": [
    "testdebug()"
   ]
  },
  {
   "cell_type": "code",
   "execution_count": 1,
   "id": "b694d76f",
   "metadata": {},
   "outputs": [],
   "source": [
    "##### App developer section is skip till 4:00:00"
   ]
  },
  {
   "cell_type": "code",
   "execution_count": null,
   "id": "3696942a",
   "metadata": {},
   "outputs": [],
   "source": []
  }
 ],
 "metadata": {
  "kernelspec": {
   "display_name": "Python 3 (ipykernel)",
   "language": "python",
   "name": "python3"
  },
  "language_info": {
   "codemirror_mode": {
    "name": "ipython",
    "version": 3
   },
   "file_extension": ".py",
   "mimetype": "text/x-python",
   "name": "python",
   "nbconvert_exporter": "python",
   "pygments_lexer": "ipython3",
   "version": "3.9.7"
  }
 },
 "nbformat": 4,
 "nbformat_minor": 5
}
